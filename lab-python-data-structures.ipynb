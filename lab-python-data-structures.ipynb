{
 "cells": [
  {
   "cell_type": "markdown",
   "metadata": {},
   "source": [
    "# Lab | Data Structures "
   ]
  },
  {
   "cell_type": "markdown",
   "metadata": {},
   "source": [
    "## Exercise 1: Working with Lists"
   ]
  },
  {
   "cell_type": "markdown",
   "metadata": {},
   "source": [
    "Imagine you are building a program for a teacher who wants to track the progress of their students throughout the semester. The teacher wants to input the grades of each student one by one, and get a summary of their performance. There are in total 5 students. You are tasked with building the program that will allow the teacher to do this easily.\n",
    "\n",
    "The program will prompt the teacher to enter the grades of each student. Once the teacher has entered all the grades, the program will calculate the total sum of the grades and display it on the screen. Then, the program will create a new list by selecting only the grades of the first, third, and fifth students entered by the teacher, and sort them in ascending order.\n",
    "\n",
    "Finally, the program will print out the new list, along with its length and the number of occurrences of the score 5 in the list. This will give the teacher a good overview of the performance of the selected students, and help them identify any potential issues early on."
   ]
  },
  {
   "cell_type": "markdown",
   "metadata": {},
   "source": [
    "*Hint:*\n",
    "- You can use the input() function to ask the user to enter their information.\n",
    "- Look for list methods to perform the tasks. \n",
    "- Remember, it is possible to get a part of the sequence using:\n",
    "\n",
    "    ```python\n",
    "    sequence[x:y:z]\n",
    "    ```\n",
    "    where x, y, z are integers.\n",
    "\n",
    "    The above returns a new sequence with the following characteristics:\n",
    "\n",
    "    - A sequence with the same type as the original (a slice of a list is a list, a slice of a tuple is a tuple, and a slice of a string is a string).\n",
    "    - A sequence with elements from `sequence [x]` to `sequence [y-1]` (does not include a sequence [y]). By skipping `z` elements each time, it can be omitted if ` z = 1`.\n"
   ]
  },
  {
   "cell_type": "markdown",
   "metadata": {},
   "source": [
    "*Recommended External Resources:*\n",
    "- *[Python Lists](https://www.w3schools.com/python/python_lists.asp)*\n",
    "- *[Python List Methods](https://www.w3schools.com/python/python_ref_list.asp)*\n",
    "- *[Python Built-in Functions](https://docs.python.org/3/library/functions.html)*\n"
   ]
  },
  {
   "cell_type": "code",
   "execution_count": 1,
   "metadata": {},
   "outputs": [
    {
     "name": "stdin",
     "output_type": "stream",
     "text": [
      "Enter the grade for student 1:  12\n",
      "Enter the grade for student 2:  15\n",
      "Enter the grade for student 3:  16\n",
      "Enter the grade for student 4:  8\n",
      "Enter the grade for student 5:  9\n"
     ]
    },
    {
     "name": "stdout",
     "output_type": "stream",
     "text": [
      "The total sum of all grades is: 60.0\n",
      "Sorted list of selected grades: [9.0, 12.0, 16.0]\n",
      "Length of the list: 3\n",
      "Number of occurrences of the score 5: 0\n"
     ]
    }
   ],
   "source": [
    "#Empty list\n",
    "grades = []\n",
    "\n",
    "#Prompt for input\n",
    "for i in range(5):\n",
    "    grade = float(input(f\"Enter the grade for student {i+1}: \"))  # Get input and convert it to float\n",
    "    grades.append(grade)  # Add the grade to the list\n",
    "\n",
    "#Compute sum\n",
    "total_sum = sum(grades)\n",
    "print(f\"The total sum of all grades is: {total_sum}\")\n",
    "\n",
    "#Create new list\n",
    "selected_grades = [grades[0], grades[2], grades[4]]\n",
    "\n",
    "#Sort\n",
    "selected_grades.sort()\n",
    "\n",
    "#Print sorted lists\n",
    "print(f\"Sorted list of selected grades: {selected_grades}\")\n",
    "print(f\"Length of the list: {len(selected_grades)}\")\n",
    "print(f\"Number of occurrences of the score 5: {selected_grades.count(5)}\")"
   ]
  },
  {
   "cell_type": "markdown",
   "metadata": {},
   "source": [
    "## Exercise 2: Tuples"
   ]
  },
  {
   "cell_type": "markdown",
   "metadata": {},
   "source": [
    "Imagine you're running a fruit stand and want to keep track of your inventory. Write a Python program that does the following:\n",
    "\n",
    "- Initializes a tuple with 5 different types of fruit.\n",
    "- Outputs the first and last elements of the tuple, so you can see the full range of fruits the store offers.\n",
    "- Replaces the second element of the tuple with a new fruit that the store has recently received, and prints the updated tuple so you can see the changes.\n",
    "- Concatenates a new tuple containing 2 additional fruits to the original tuple, so you can add them to the store inventory, and prints the resulting tuple to see the updated inventory.\n",
    "- Splits the resulting tuple into 2 tuples of 3 elements each (the first tuple contains the first 3 elements, and the second tuple contains the last 3 elements), so you can organize the inventory more effectively.\n",
    "- Combines the 2 tuples from the previous step with the original tuple into a new tuple, and prints the resulting tuple and its length, so you can see the final inventory after all the changes."
   ]
  },
  {
   "cell_type": "markdown",
   "metadata": {},
   "source": [
    "*Recommended External Resources: [Python Tuples Examples and Methods](https://www.w3schools.com/python/python_tuples.asp)*\n",
    "\n"
   ]
  },
  {
   "cell_type": "code",
   "execution_count": 3,
   "metadata": {},
   "outputs": [
    {
     "name": "stdout",
     "output_type": "stream",
     "text": [
      "First fruit: apple\n",
      "Last fruit: elderberry\n",
      "Updated inventory: ('apple', 'fig', 'cherry', 'date', 'elderberry')\n",
      "Updated inventory after adding new fruits: ('apple', 'fig', 'cherry', 'date', 'elderberry', 'grape', 'honeydew')\n",
      "First tuple: ('apple', 'fig', 'cherry')\n",
      "Second tuple: ('date', 'elderberry', 'grape', 'honeydew')\n",
      "Final inventory: ('apple', 'fig', 'cherry', 'date', 'elderberry', 'grape', 'honeydew', 'apple', 'fig', 'cherry', 'date', 'elderberry')\n",
      "Length of final inventory: 12\n"
     ]
    }
   ],
   "source": [
    "# Step 1: Initialize a tuple with 5 different types of fruit\n",
    "fruit_inventory = ('apple', 'banana', 'cherry', 'date', 'elderberry')\n",
    "\n",
    "# Step 2: Output the first and last elements of the tuple\n",
    "print(f\"First fruit: {fruit_inventory[0]}\")\n",
    "print(f\"Last fruit: {fruit_inventory[-1]}\")\n",
    "\n",
    "# Step 3: Replace the second element of the tuple with a new fruit\n",
    "# Since tuples are immutable, we'll need to create a new tuple to update the second element\n",
    "fruit_inventory = fruit_inventory[:1] + ('fig',) + fruit_inventory[2:]\n",
    "\n",
    "print(f\"Updated inventory: {fruit_inventory}\")\n",
    "\n",
    "# Step 4: Concatenate a new tuple containing 2 additional fruits to the original tuple\n",
    "new_fruits = ('grape', 'honeydew')\n",
    "updated_inventory = fruit_inventory + new_fruits\n",
    "\n",
    "print(f\"Updated inventory after adding new fruits: {updated_inventory}\")\n",
    "\n",
    "# Step 5: Split the resulting tuple into 2 tuples of 3 elements each\n",
    "# First tuple contains the first 3 elements, second tuple contains the last 3 elements\n",
    "first_three = updated_inventory[:3]\n",
    "last_three = updated_inventory[3:]\n",
    "\n",
    "print(f\"First tuple: {first_three}\")\n",
    "print(f\"Second tuple: {last_three}\")\n",
    "\n",
    "# Step 6: Combine the two new tuples with the original tuple into a new tuple\n",
    "final_inventory = first_three + last_three + fruit_inventory\n",
    "\n",
    "print(f\"Final inventory: {final_inventory}\")\n",
    "print(f\"Length of final inventory: {len(final_inventory)}\")"
   ]
  },
  {
   "cell_type": "markdown",
   "metadata": {},
   "source": [
    "## Exercise 3: Sets"
   ]
  },
  {
   "cell_type": "markdown",
   "metadata": {},
   "source": [
    "Imagine you are a data analyst working for a literature museum. Your manager has given you two poems to analyze, and she wants you to write a Python program to extract useful information from them.\n",
    "\n",
    "Your program should:\n",
    "\n",
    "- Create two sets, one for each poem, containing all unique words in both poems (ignoring case and punctuation).\n",
    "- Print the number of unique words in each set.\n",
    "- Identify and print the unique words present in the first poem but not in the second one.\n",
    "- Identify and print the unique words present in the second poem but not in the first one.\n",
    "- Identify and print the unique words present in both poems and print it in alphabetical order."
   ]
  },
  {
   "cell_type": "markdown",
   "metadata": {},
   "source": [
    "*Recommended External Resources:*\n",
    "- *[Python Sets](https://www.w3schools.com/python/python_sets.asp)* \n",
    "- *[Python Set Methods](https://www.w3schools.com/python/python_ref_set.asp)*\n",
    "- *[Python String Methods](https://www.w3schools.com/python/python_ref_string.asp)*\n"
   ]
  },
  {
   "cell_type": "code",
   "execution_count": null,
   "metadata": {},
   "outputs": [],
   "source": [
    "poem = \"\"\"Some say the world will end in fire,\n",
    "Some say in ice.\n",
    "From what I’ve tasted of desire\n",
    "I hold with those who favor fire.\n",
    "But if it had to perish twice,\n",
    "I think I know enough of hate\n",
    "To say that for destruction ice\n",
    "Is also great\n",
    "And would suffice.\"\"\"\n",
    "\n",
    "new_poem = \"\"\"Some say life is but a dream,\n",
    "Some say it's a test.\n",
    "From what I've seen and what I deem,\n",
    "I side with those who see it as a quest.\n",
    "\n",
    "But if it had to end today,\n",
    "I think I know enough of love,\n",
    "To say that though it fades away,\n",
    "It's still what we are made of.\"\"\""
   ]
  },
  {
   "cell_type": "code",
   "execution_count": 5,
   "metadata": {},
   "outputs": [
    {
     "name": "stdout",
     "output_type": "stream",
     "text": [
      "Number of unique words in the first poem: 41\n",
      "Number of unique words in the second poem: 42\n",
      "Unique words in the first poem but not in the second: ['also', 'desire', 'destruction', 'favor', 'fire', 'for', 'great', 'hate', 'hold', 'ice', 'in', 'i’ve', 'perish', 'suffice', 'tasted', 'the', 'twice', 'will', 'world', 'would']\n",
      "Unique words in the second poem but not in the first: ['a', 'are', 'as', 'away', 'deem', 'dream', 'fades', 'its', 'ive', 'life', 'love', 'made', 'quest', 'see', 'seen', 'side', 'still', 'test', 'though', 'today', 'we']\n",
      "Common words in both poems (sorted): ['and', 'but', 'end', 'enough', 'from', 'had', 'i', 'if', 'is', 'it', 'know', 'of', 'say', 'some', 'that', 'think', 'those', 'to', 'what', 'who', 'with']\n"
     ]
    }
   ],
   "source": [
    "import string\n",
    "\n",
    "# Poems\n",
    "poem = \"\"\"Some say the world will end in fire,\n",
    "Some say in ice.\n",
    "From what I’ve tasted of desire\n",
    "I hold with those who favor fire.\n",
    "But if it had to perish twice,\n",
    "I think I know enough of hate\n",
    "To say that for destruction ice\n",
    "Is also great\n",
    "And would suffice.\"\"\"\n",
    "\n",
    "new_poem = \"\"\"Some say life is but a dream,\n",
    "Some say it's a test.\n",
    "From what I've seen and what I deem,\n",
    "I side with those who see it as a quest.\n",
    "\n",
    "But if it had to end today,\n",
    "I think I know enough of love,\n",
    "To say that though it fades away,\n",
    "It's still what we are made of.\"\"\"\n",
    "\n",
    "# Helper function to clean and split poem text into a set of unique words\n",
    "def clean_and_split(poem_text):\n",
    "    # Remove punctuation and convert text to lowercase\n",
    "    poem_text = poem_text.translate(str.maketrans(\"\", \"\", string.punctuation)).lower()\n",
    "    # Split into words and return as a set of unique words\n",
    "    return set(poem_text.split())\n",
    "\n",
    "# Create sets of unique words from both poems\n",
    "poem_words = clean_and_split(poem)\n",
    "new_poem_words = clean_and_split(new_poem)\n",
    "\n",
    "# Print the number of unique words in each set\n",
    "print(f\"Number of unique words in the first poem: {len(poem_words)}\")\n",
    "print(f\"Number of unique words in the second poem: {len(new_poem_words)}\")\n",
    "\n",
    "# Identify and print the unique words in the first poem but not in the second\n",
    "unique_in_poem = poem_words - new_poem_words\n",
    "print(f\"Unique words in the first poem but not in the second: {sorted(unique_in_poem)}\")\n",
    "\n",
    "# Identify and print the unique words in the second poem but not in the first\n",
    "unique_in_new_poem = new_poem_words - poem_words\n",
    "print(f\"Unique words in the second poem but not in the first: {sorted(unique_in_new_poem)}\")\n",
    "\n",
    "# Identify and print the common words in both poems, sorted alphabetically\n",
    "common_words = poem_words & new_poem_words\n",
    "print(f\"Common words in both poems (sorted): {sorted(common_words)}\")"
   ]
  },
  {
   "cell_type": "markdown",
   "metadata": {},
   "source": [
    "## Exercise 4: Dictionaries"
   ]
  },
  {
   "cell_type": "markdown",
   "metadata": {},
   "source": [
    "Consider the following dictionary of students with their scores in different subjects. One of the students, Bob, has complained about his score in Philosophy and, after reviewing it, the teacher has decided to update his score to 100. Write a Python program that updates Bob's score in Philosophy to 100 in the dictionary."
   ]
  },
  {
   "cell_type": "markdown",
   "metadata": {},
   "source": [
    "*Recommended External Resources: [Python Dictionary Examples and Methods](https://www.w3schools.com/python/python_dictionaries.asp)*\n"
   ]
  },
  {
   "cell_type": "code",
   "execution_count": 51,
   "metadata": {},
   "outputs": [],
   "source": [
    "grades = {'Alice': {'Physics': 75, 'Math': 85, 'Chemistry': 60, 'Philosophy': 90}, 'Bob': {'Physics': 75, 'Math': 85, 'Chemistry': 60, 'Philosophy': 90}}"
   ]
  },
  {
   "cell_type": "code",
   "execution_count": 9,
   "metadata": {},
   "outputs": [
    {
     "name": "stdout",
     "output_type": "stream",
     "text": [
      "{'Alice': {'Physics': 75, 'Math': 85, 'Chemistry': 60, 'Philosophy': 90}, 'Bob': {'Physics': 75, 'Math': 85, 'Chemistry': 60, 'Philosophy': 100}}\n"
     ]
    }
   ],
   "source": [
    "# Dictionary of students with their scores in different subjects\n",
    "grades = {'Alice': {'Physics': 75, 'Math': 85, 'Chemistry': 60, 'Philosophy': 90}, 'Bob': {'Physics': 75, 'Math': 85, 'Chemistry': 60, 'Philosophy': 90}}\n",
    "\n",
    "# Update Bob's score in Philosophy to 100\n",
    "grades['Bob']['Philosophy'] = 100\n",
    "\n",
    "# Print the updated dictionary\n",
    "print(grades)"
   ]
  },
  {
   "cell_type": "markdown",
   "metadata": {},
   "source": [
    "## Bonus"
   ]
  },
  {
   "cell_type": "markdown",
   "metadata": {},
   "source": [
    "1. Below are the two lists. Write a Python program to convert them into a dictionary in a way that item from list1 is the key and item from list2 is the value."
   ]
  },
  {
   "cell_type": "markdown",
   "metadata": {},
   "source": [
    "*Hint: Use the zip() function. This function takes two or more iterables (like list, dict, string), aggregates them in a tuple, and returns it. Afterwards, you can use a function that turns a tuple into a dictionary.*"
   ]
  },
  {
   "cell_type": "markdown",
   "metadata": {},
   "source": [
    "*Recommended External Resources: [Python Zip Function](https://www.w3schools.com/python/ref_func_zip.asp)*\n"
   ]
  },
  {
   "cell_type": "code",
   "execution_count": 12,
   "metadata": {},
   "outputs": [
    {
     "name": "stdout",
     "output_type": "stream",
     "text": [
      "{'Physics': 75, 'Math': 85, 'Chemistry': 60, 'Philosophy': 90}\n"
     ]
    }
   ],
   "source": [
    "keys = ['Physics', 'Math', 'Chemistry', 'Philosophy']\n",
    "values = [75, 85, 60,90]\n",
    "\n",
    "# Use zip() to pair the lists and convert them into a dictionary\n",
    "subject_scores = dict(zip(keys, values))\n",
    "\n",
    "# Print the resulting dictionary\n",
    "print(subject_scores)"
   ]
  },
  {
   "cell_type": "markdown",
   "metadata": {},
   "source": [
    "2. Get the subject with the minimum score from the previous dictionary."
   ]
  },
  {
   "cell_type": "markdown",
   "metadata": {},
   "source": [
    "*Hint: Use the built-in function min(). Read about the parameter key.*"
   ]
  },
  {
   "cell_type": "markdown",
   "metadata": {},
   "source": [
    "\n",
    "*Recommended External Resources:*\n",
    "- *[Python Min Function Official Documentation](https://docs.python.org/3.8/library/functions.html#min)*\n",
    "- *[How to use key function in max and min in Python](https://medium.com/analytics-vidhya/how-to-use-key-function-in-max-and-min-in-python-1fdbd661c59c)*"
   ]
  },
  {
   "cell_type": "code",
   "execution_count": 14,
   "metadata": {},
   "outputs": [
    {
     "name": "stdout",
     "output_type": "stream",
     "text": [
      "The subject with the minimum score is 'Chemistry' with a score of 60.\n"
     ]
    }
   ],
   "source": [
    "# Given dictionary from previous code\n",
    "subject_scores = {\n",
    "    'Physics': 75,\n",
    "    'Math': 85,\n",
    "    'Chemistry': 60,\n",
    "    'Philosophy': 90\n",
    "}\n",
    "\n",
    "# Use min() to find the subject with the minimum score\n",
    "subject_with_min_score = min(subject_scores, key=subject_scores.get)\n",
    "\n",
    "# Print the subject with the minimum score and the score itself\n",
    "print(f\"The subject with the minimum score is '{subject_with_min_score}' with a score of {subject_scores[subject_with_min_score]}.\")"
   ]
  },
  {
   "cell_type": "code",
   "execution_count": null,
   "metadata": {},
   "outputs": [],
   "source": []
  }
 ],
 "metadata": {
  "kernelspec": {
   "display_name": "Python 3 (ipykernel)",
   "language": "python",
   "name": "python3"
  },
  "language_info": {
   "codemirror_mode": {
    "name": "ipython",
    "version": 3
   },
   "file_extension": ".py",
   "mimetype": "text/x-python",
   "name": "python",
   "nbconvert_exporter": "python",
   "pygments_lexer": "ipython3",
   "version": "3.12.4"
  }
 },
 "nbformat": 4,
 "nbformat_minor": 4
}
